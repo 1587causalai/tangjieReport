{
 "cells": [
  {
   "cell_type": "markdown",
   "metadata": {
    "Collapsed": "false"
   },
   "source": [
    "# 使用 Pyro 搭建因果模型"
   ]
  },
  {
   "cell_type": "markdown",
   "metadata": {
    "Collapsed": "false"
   },
   "source": [
    "本教程将展示使用 Pyro 搭建信息因果模型的一般步骤。"
   ]
  },
  {
   "cell_type": "markdown",
   "metadata": {
    "Collapsed": "false"
   },
   "source": [
    "Pyro is a deep probabilistic programming language(PPL) released by Uber AI Labs. Pyro is built on top of PyTorch and is based on four fundamental principles:\n",
    "\n",
    "- **Universal**: Pyro is a universal PPL — it can represent any computable probability distribution. How? By starting from a universal language with iteration and recursion (arbitrary Python code), and then adding random sampling, observation, and inference.\n",
    "- **Scalable:** Pyro scales to large data sets with little overhead above hand-written code. How? By building modern black box optimization techniques, which use mini-batches of data, to approximate inference.\n",
    "- **Minimal:** Pyro is agile and maintainable. How? Pyro is implemented with a small core of powerful, composable abstractions. Wherever possible, the heavy lifting is delegated to PyTorch and other libraries.\n",
    "- **Flexible:** Pyro aims for automation when you want it and control when you need it. How? Pyro uses high-level abstractions to express generative and inference models, while allowing experts to easily customize inference.\n",
    "\n",
    "\n",
    "相关资料包括：\n",
    "\n",
    "- [Pyro 官网](https://pyro.ai)\n",
    "- [Pyro 全面介绍](https://sites.google.com/view/causal-inference-zerotoall/codes/tools/pyro)\n",
    "- [Pyro 官方教程汉化版](https://causalai.github.io/pyro_zh_tutorial/)"
   ]
  },
  {
   "cell_type": "markdown",
   "metadata": {
    "Collapsed": "false"
   },
   "source": [
    "## 称重例子"
   ]
  },
  {
   "cell_type": "code",
   "execution_count": 2,
   "metadata": {
    "Collapsed": "false"
   },
   "outputs": [
    {
     "name": "stdout",
     "output_type": "stream",
     "text": [
      "Before updated: tensor(8.5000, requires_grad=True) tensor(1., requires_grad=True)\n",
      "After updated: tensor(9.0979, requires_grad=True) tensor(0.6203, requires_grad=True)\n",
      "a =  9.097911834716797\n",
      "b =  0.6202840209007263\n"
     ]
    }
   ],
   "source": [
    "import matplotlib.pyplot as plt\n",
    "import numpy as np\n",
    "import torch\n",
    "\n",
    "import pyro\n",
    "import pyro.infer\n",
    "import pyro.optim\n",
    "import pyro.distributions as dist\n",
    "pyro.set_rng_seed(101)\n",
    "mu = 8.5\n",
    "\n",
    "def scale(mu):\n",
    "    weight = pyro.sample(\"weight\", dist.Normal(mu, 1.0))\n",
    "    return pyro.sample(\"measurement\", dist.Normal(weight, 0.75))\n",
    "conditioned_scale = pyro.condition(scale, data={\"measurement\": torch.tensor(9.5)})\n",
    "\n",
    "def scale_parametrized_guide(mu):\n",
    "    a = pyro.param(\"a\", torch.tensor(mu))\n",
    "    b = pyro.param(\"b\", torch.tensor(1.))\n",
    "    return pyro.sample(\"weight\", dist.Normal(a, torch.abs(b)))\n",
    "\n",
    "loss_fn = pyro.infer.Trace_ELBO().differentiable_loss\n",
    "\n",
    "pyro.clear_param_store()\n",
    "\n",
    "with pyro.poutine.trace(param_only=True) as param_capture:\n",
    "    loss = loss_fn(conditioned_scale, scale_parametrized_guide, mu)\n",
    "    loss.backward()\n",
    "params = [site[\"value\"].unconstrained() for site in param_capture.trace.nodes.values()]\n",
    "\n",
    "def step(params):\n",
    "    for x in params:\n",
    "        x.data = x.data - lr * x.grad\n",
    "        x.grad.zero_()\n",
    "\n",
    "print(\"Before updated:\", pyro.param('a'), pyro.param('b'))\n",
    "losses, a,b  = [], [], []\n",
    "lr = 0.001\n",
    "num_steps = 1000\n",
    "for t in range(num_steps):\n",
    "    with pyro.poutine.trace(param_only=True) as param_capture:\n",
    "        loss = loss_fn(conditioned_scale, scale_parametrized_guide, mu)\n",
    "        loss.backward()\n",
    "        losses.append(loss.data)\n",
    "    params = [site[\"value\"].unconstrained() for site in param_capture.trace.nodes.values()]\n",
    "\n",
    "    a.append(pyro.param(\"a\").item())\n",
    "    b.append(pyro.param(\"b\").item())\n",
    "    step(params)\n",
    "print(\"After updated:\", pyro.param('a'), pyro.param('b'))\n",
    "\n",
    "\n",
    "plt.plot(losses)\n",
    "plt.title(\"ELBO\")\n",
    "plt.xlabel(\"step\")\n",
    "plt.ylabel(\"loss\");\n",
    "print('a = ',pyro.param(\"a\").item())\n",
    "print('b = ', pyro.param(\"b\").item())"
   ]
  },
  {
   "cell_type": "code",
   "execution_count": 3,
   "metadata": {
    "Collapsed": "false"
   },
   "outputs": [
    {
     "data": {
      "image/png": "[encoded data removed]",
      "text/plain": [
       "<Figure size 432x288 with 2 Axes>"
      ]
     },
     "metadata": {
      "needs_background": "light"
     },
     "output_type": "display_data"
    }
   ],
   "source": [
    "plt.subplot(1,2,1)\n",
    "plt.plot([0,num_steps],[9.14,9.14], 'k:')\n",
    "plt.plot(a)\n",
    "plt.ylabel('a')\n",
    "\n",
    "plt.subplot(1,2,2)\n",
    "plt.ylabel('b')\n",
    "plt.plot([0,num_steps],[0.6,0.6], 'k:')\n",
    "plt.plot(b)\n",
    "plt.tight_layout()"
   ]
  },
  {
   "cell_type": "markdown",
   "metadata": {
    "Collapsed": "false"
   },
   "source": [
    "## 掷硬币例子\n",
    "\n",
    "硬币的先验分布是 $\\beta(10, 10)$ 得到若干数据之后的后验分布是多少？"
   ]
  },
  {
   "cell_type": "code",
   "execution_count": 1,
   "metadata": {
    "Collapsed": "false"
   },
   "outputs": [
    {
     "name": "stdout",
     "output_type": "stream",
     "text": [
      "....................\n",
      "based on the data and our prior belief, the fairness of the coin is 0.534 +- 0.089\n"
     ]
    }
   ],
   "source": [
    "import math, os, torch, pyro\n",
    "import torch.distributions.constraints as constraints\n",
    "import pyro.distributions as dist\n",
    "from pyro.optim import Adam\n",
    "from pyro.infer import SVI, Trace_ELBO\n",
    "\n",
    "assert pyro.__version__.startswith('1.3.0')\n",
    "pyro.enable_validation(True)\n",
    "pyro.clear_param_store()\n",
    "\n",
    "data = []\n",
    "data.extend([torch.tensor(1.0) for _ in range(6)])\n",
    "data.extend([torch.tensor(0.0) for _ in range(4)])\n",
    "\n",
    "def model(data):\n",
    "    alpha0, beta0 = torch.tensor(10.0), torch.tensor(10.0)\n",
    "    theta = pyro.sample(\"latent_fairness\", dist.Beta(alpha0, beta0))\n",
    "    for i in range(len(data)):\n",
    "        pyro.sample(\"obs_{}\".format(i), dist.Bernoulli(theta), obs=data[i])\n",
    "def guide(data):\n",
    "    alpha_q = pyro.param(\"alpha_q\", torch.tensor(15.0), constraint=constraints.positive)\n",
    "    beta_q = pyro.param(\"beta_q\", torch.tensor(15.0), constraint=constraints.positive)\n",
    "    pyro.sample(\"latent_fairness\", dist.Beta(alpha_q, beta_q))\n",
    "\n",
    "adam_params = {\"lr\": 0.0005, \"betas\": (0.90, 0.999)}\n",
    "optimizer = Adam(adam_params)\n",
    "\n",
    "svi = SVI(model, guide, optimizer, loss=Trace_ELBO())\n",
    "\n",
    "n_steps = 2000\n",
    "for step in range(n_steps):\n",
    "    svi.step(data)\n",
    "    if step % 100 == 0:\n",
    "        print('.', end='')\n",
    "\n",
    "alpha_q = pyro.param(\"alpha_q\").item()\n",
    "beta_q = pyro.param(\"beta_q\").item()\n",
    "inferred_mean = alpha_q / (alpha_q + beta_q)\n",
    "factor = beta_q / (alpha_q * (1.0 + alpha_q + beta_q))\n",
    "inferred_std = inferred_mean * math.sqrt(factor)\n",
    "print(\"\\nbased on the data and our prior belief, the fairness \" +\n",
    "      \"of the coin is %.3f +- %.3f\" % (inferred_mean, inferred_std))\n"
   ]
  },
  {
   "cell_type": "markdown",
   "metadata": {
    "Collapsed": "false"
   },
   "source": []
  }
 ],
 "metadata": {
  "kernelspec": {
   "display_name": "Python 3",
   "language": "python",
   "name": "python3"
  },
  "language_info": {
   "codemirror_mode": {
    "name": "ipython",
    "version": 3
   },
   "file_extension": ".py",
   "mimetype": "text/x-python",
   "name": "python",
   "nbconvert_exporter": "python",
   "pygments_lexer": "ipython3",
   "version": "3.7.4"
  }
 },
 "nbformat": 4,
 "nbformat_minor": 4
}
